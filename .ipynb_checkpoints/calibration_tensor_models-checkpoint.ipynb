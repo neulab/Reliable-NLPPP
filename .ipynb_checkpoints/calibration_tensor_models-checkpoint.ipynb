{
 "cells": [
  {
   "cell_type": "code",
   "execution_count": 38,
   "metadata": {},
   "outputs": [],
   "source": [
    "import numpy as np\n",
    "import tensorly as tl\n",
    "import copy\n",
    "from tensorly.decomposition import parafac\n",
    "from tensorly.decomposition import robust_pca\n",
    "import random\n",
    "import pickle\n",
    "import string\n",
    "import sys\n",
    "import itertools\n",
    "import math\n",
    "import pandas as pd\n",
    "import matplotlib.pyplot as plt\n",
    "import matplotlib.lines as mlines\n",
    "import matplotlib.transforms as mtransforms"
   ]
  },
  {
   "cell_type": "markdown",
   "metadata": {},
   "source": [
    "* Helper functions to construct tensors"
   ]
  },
  {
   "cell_type": "code",
   "execution_count": 39,
   "metadata": {},
   "outputs": [],
   "source": [
    "def get_dict(path, metric=\"f1\"):\n",
    "    with open(path, \"rb\") as f:\n",
    "        tensorDict_list = pickle.load(f)\n",
    "        if metric == \"f1\":\n",
    "            d = tensorDict_list[0]\n",
    "    return d\n",
    "     \n",
    "\n",
    "def iter_dict(tensor_dict, mode_dict, dept=0):\n",
    "    for k,v in tensor_dict.items():\n",
    "        if isinstance(v,dict):\n",
    "            mode_dict[dept].add(k)\n",
    "            iter_dict(v, mode_dict, dept+1)\n",
    "        else:\n",
    "            mode_dict[dept].add(k)\n",
    "            mode_dict[dept+1].add(v)\n",
    "            \n",
    "    \n",
    "def get_modes(tensorDict, numMode):\n",
    "    # numMode + 1 since values take 1 extra level \n",
    "    modeDict = {i: set() for i in range(numMode+1)} \n",
    "    iter_dict(tensorDict, modeDict)\n",
    "    return modeDict\n",
    "    \n",
    "def order_buckets(d):\n",
    "    d_copy = copy.deepcopy(d)\n",
    "    for model in d.keys():\n",
    "        for dataset in d[model].keys():\n",
    "            for attribute in d[model][dataset].keys():\n",
    "                d_copy[model][dataset][attribute] = {}\n",
    "                for i, (k, v) in enumerate(d[model][dataset][attribute].items()):\n",
    "                    d_copy[model][dataset][attribute][i] = v\n",
    "    return d_copy\n",
    "\n",
    "# directions: model -> dataset -> attribute -> bucket\n",
    "def get_index(mode_dict):\n",
    "    index_lst = []\n",
    "    for m in mode_dict:\n",
    "        md = dict()\n",
    "        for i, n in enumerate(list(mode_dict[m])):\n",
    "            md[n] = i\n",
    "        index_lst.append(md)\n",
    "    return index_lst\n",
    "\n",
    "def read_dict(dataDict, maplist):\n",
    "    first, rest = maplist[0], maplist[1:]\n",
    "\n",
    "    # Handle missing data\n",
    "    if dataDict.get(first) == None:\n",
    "        return None\n",
    "    \n",
    "    if rest: \n",
    "        return read_dict(dataDict[first], rest)\n",
    "    \n",
    "    else:\n",
    "        # return None if key is missing\n",
    "        return dataDict.get(first) \n",
    "\n",
    "    \n",
    "def read_tensor(tensor, maplist):\n",
    "    first, rest = maplist[0], maplist[1:]\n",
    "    if rest: \n",
    "        return read_tensor(tensor[first], rest)\n",
    "    else:\n",
    "        return tensor[first]\n",
    "   \n",
    "    \n",
    "    \n",
    "\n",
    "def write_tensor(tensor, maplist, val):\n",
    "    first, rest = maplist[0], maplist[1:]\n",
    "\n",
    "    if rest: \n",
    "        assert(isinstance(tensor[first], np.ndarray))\n",
    "        return write_tensor(tensor[first], rest, val)\n",
    "    else:\n",
    "        if isinstance(tensor[first], np.ndarray):\n",
    "            print(\"Maplist length not correct!\")\n",
    "        tensor[first] = val\n",
    "    \n",
    "    \n",
    "# Construct a tensor of dimensions *argv    \n",
    "def init_tensor(*argv):\n",
    "    size = 1\n",
    "    for s in argv:\n",
    "        size *= s\n",
    "    X = tl.tensor(np.arange(size).reshape(argv), dtype=tl.float32)\n",
    "    return X\n",
    "\n",
    "\n",
    "\n",
    "def convert_index(p, indDict):\n",
    "    l = []\n",
    "    for i,n in enumerate(p):\n",
    "        l.append(indDict[i][n])\n",
    "    return l\n",
    "\n",
    "    \n",
    "def construct_tensor(modeDict, tensorDict, indexDict):\n",
    "    l = []\n",
    "    for _,v in modeDict.items():\n",
    "        l.append(list(v))\n",
    "    from_paths = list(itertools.product(*l[:-1])) # all possible entries \n",
    "    \n",
    "    to_paths = []\n",
    "    for p in from_paths:\n",
    "        to_paths.append(convert_index(p, indexDict))\n",
    "  \n",
    "    \n",
    "    # tensor dim\n",
    "    dims = [len(modeDict[i]) for i in modeDict.keys()][:-1]\n",
    "    X = init_tensor(*dims)\n",
    "    \n",
    "    \n",
    "    for p in range(len(from_paths)):\n",
    "       # print(p)\n",
    "        val = read_dict(tensorDict, from_paths[p])\n",
    "        # if data is not missing\n",
    "        if val != None:\n",
    "            write_tensor(X,to_paths[p],val) \n",
    "        else:\n",
    "            print(\"MISSING DATA AT \"+ str(from_paths[p]))\n",
    "            write_tensor(X,to_paths[p],None) \n",
    "    return X"
   ]
  },
  {
   "cell_type": "code",
   "execution_count": 51,
   "metadata": {},
   "outputs": [],
   "source": [
    "def get_dicts(path):\n",
    "    with open(path, \"rb\") as f:\n",
    "        tensorDict_list = pickle.load(f)\n",
    "        return tensorDict_list[6]\n",
    "           \n",
    "        \n",
    "                  \n",
    "def convert_paths(from_names, indexDict):\n",
    "    to_paths = []\n",
    "    for p in from_names:\n",
    "        to_paths.append(convert_index(p, indexDict))\n",
    "    return to_paths\n",
    "\n",
    "                           \n",
    "def create_mask(missing, *dims):\n",
    "    size = 1\n",
    "    for s in dims:\n",
    "        size *= s\n",
    "    mask = tl.tensor(np.array([1]*size).reshape(dims), dtype=tl.float32)\n",
    "    for r in missing:\n",
    "        write_tensor(mask, r,0)\n",
    "    return mask\n",
    "\n",
    "\n",
    "        \n",
    "def boot_construct_tensors(modeDict, tensorDict, indexDict, num):\n",
    "    l = []\n",
    "    for _,v in modeDict.items():\n",
    "        l.append(list(v))\n",
    "    from_paths = list(itertools.product(*l[:-1])) # all possible entries \n",
    "    \n",
    "    to_paths = []\n",
    "    for p in from_paths:\n",
    "        to_paths.append(convert_index(p, indexDict))\n",
    "  \n",
    "    # tensor dim\n",
    "    dims = [len(modeDict[i]) for i in modeDict.keys()][:-1]\n",
    "    \n",
    "    dictLst = [] \n",
    "    # Construct num new tensors, append them to the list\n",
    "    for i in range(num):\n",
    "        Xi = init_tensor(*dims)\n",
    "        for p in range(len(from_paths)):\n",
    "            vals = read_dict(tensorDict, from_paths[p])\n",
    "            boot_val = vals[2][i]\n",
    "            # if data is not missing\n",
    "            if boot_val != None:\n",
    "                write_tensor(Xi,to_paths[p],boot_val) \n",
    "            else:\n",
    "                print(\"MISSING DATA AT \"+ str(from_paths[p]))\n",
    "                write_tensor(Xi,to_paths[p],None) \n",
    "        dictLst.append(Xi)\n",
    "    return dictLst\n",
    "        \n",
    "    \n",
    "def get_dicts1000(path):\n",
    "    with open(path, \"rb\") as f:\n",
    "        tensorDict_list = pickle.load(f)\n",
    "        return tensorDict_list[0]\n",
    "    \n",
    "def bootstrap_reconstruct(boot_tensors_lst, modeDict, indexDict, size=396, model='cp'):\n",
    "    all_p = all_paths(modeDict)\n",
    "    ap = sample_paths(all_p, size=size) # Number of rounds of prediction: num of entries in tensor/size \n",
    "    path_dict = {k: [] for k in all_p} \n",
    "    for i in range(len(boot_tensors_lst)):\n",
    "        mask_from = boot_tensors_lst[i]\n",
    "        for p in ap: # ap is a list of sampled paths     \n",
    "            to_mask_indices = convert_paths(p, indexDict)\n",
    "            bootorigval = read_tensor(mask_from, to_mask_indices[0])\n",
    "            tensor_mask = create_mask(to_mask_indices,11,6,9,4)\n",
    "            masked_tensor = mask_from * tensor_mask\n",
    "            \n",
    "            if model == 'pca':\n",
    "                pca_res = robust_pca(masked_tensor, mask=tensor_mask, reg_E=1, reg_J=1)\n",
    "                res = pca_res[0]\n",
    "            \n",
    "            if model == 'cp':\n",
    "                (w, f), err = parafac(masked_tensor, rank=5, mask = tensor_mask, return_errors = True)\n",
    "                res = tl.kruskal_to_tensor((w, f))\n",
    "\n",
    "            for m in range(len(to_mask_indices)):\n",
    "                masked_path = p[m]\n",
    "                val = read_tensor(res, to_mask_indices[m])\n",
    "                path_dict[masked_path].append(val)\n",
    "    return path_dict"
   ]
  },
  {
   "cell_type": "markdown",
   "metadata": {},
   "source": [
    "* Helper functions for plotting and calibration analysis"
   ]
  },
  {
   "cell_type": "code",
   "execution_count": 52,
   "metadata": {},
   "outputs": [],
   "source": [
    "def get_CI(a, level):\n",
    "    l = (1 - level)/2\n",
    "    h = 1 - l\n",
    "    array = np.array(sorted(a))\n",
    "    lo = np.quantile(array, l)\n",
    "    hi = np.quantile(array, h)\n",
    "    return (lo, hi)\n",
    "    \n",
    "    \n",
    "def get_CI_p(est, array, level):\n",
    "    l = (1 - level)/2\n",
    "    h = 1 - l\n",
    "    array = np.array(sorted(array))\n",
    "    lo_q = np.quantile(array, l)\n",
    "    hi_q = np.quantile(array, h)\n",
    "    #　obtain pivotal confidence intervals\n",
    "    lo = 2 * est - hi_q\n",
    "    hi = 2 * est - lo_q\n",
    "    return (lo, hi)\n",
    "\n",
    " \n",
    "def get_xy(boot_dict_pred, true_dict, mode_dict, index_dict, step=0.1):\n",
    "    buckets = all_paths(mode_dict)\n",
    "    xVals = np.arange(0,1+step,step) # increasing confidence levels\n",
    "    yVals = []\n",
    "    r = []\n",
    "    for i in xVals:\n",
    "        # get quantiles for each bucket\n",
    "        count = 0\n",
    "        for p in buckets:\n",
    "            mod, data, attr, buck = p[0], p[1], p[2], p[3]\n",
    "            distr = boot_dict_pred[p]\n",
    "            check = true_dict[mod][data][attr][buck]\n",
    "            lo, hi = get_CI_p(check, distr, i)\n",
    "            r.append((lo,hi))\n",
    "            # check sample line falls into interval\n",
    "            if check >= lo and check <= hi:\n",
    "                count += 1\n",
    "        prop = count / len(buckets) \n",
    "        yVals.append(prop)\n",
    "    return xVals, yVals,r        \n",
    "\n",
    "def calculate_avgwidth(distr):\n",
    "    means = []\n",
    "    for v in distr.keys():\n",
    "        mean = np.mean(distr[v])\n",
    "        means.append(mean)\n",
    "    return means"
   ]
  },
  {
   "cell_type": "markdown",
   "metadata": {},
   "source": [
    "### Example 1: Calibration analysis for Performance Prediction on NER task with CP model\n",
    "#### Get dimension information from the original tensor with true y values\n"
   ]
  },
  {
   "cell_type": "code",
   "execution_count": 48,
   "metadata": {},
   "outputs": [],
   "source": [
    "# Read in a dictionary \n",
    "fileName = \"data/model_data_metric_bucket_evals6.pkl\"\n",
    "dict_f1 = get_dict(fileName)\n",
    "dict_f1 = order_buckets(dict_f1)\n",
    "mdict = get_modes(dict_f1, 4)\n",
    "index_mode = get_index(mdict)"
   ]
  },
  {
   "cell_type": "markdown",
   "metadata": {},
   "source": [
    "#### Perform bootstrap to predict each entry 1000 times"
   ]
  },
  {
   "cell_type": "code",
   "execution_count": 46,
   "metadata": {},
   "outputs": [],
   "source": [
    "# Read 1000 bootstrapped F1 data\n",
    "boot_path_1000 = \"data/model_data_metric_bucket_tensorLevel_samp1000.pkl\"\n",
    "dict_boot_res_1000 = get_dicts1000(boot_path_1000)\n",
    "dict_boot_res_ordered_1000 = order_buckets(dict_boot_res_1000)\n",
    "# Construct a tensor using the same dimension specification as the original true tensor  \n",
    "# where each entry is a now a list of 1000 predicted values\n",
    "boot_tensor_1000 = boot_construct_tensors(mdict, dict_boot_res_ordered_1000, index_mode, 1000)"
   ]
  },
  {
   "cell_type": "code",
   "execution_count": 36,
   "metadata": {},
   "outputs": [],
   "source": [
    "# Get a dictionary with path names as keys and distribution of predicted values as values\n",
    "distr_tensor_cp = bootstrap_reconstruct(boot_tensor_1000, mdict, index_mode, size=396)"
   ]
  },
  {
   "cell_type": "code",
   "execution_count": null,
   "metadata": {},
   "outputs": [],
   "source": [
    "# Save the file \n",
    "with open('cp_distrs_boot1000_f1.pkl', 'wb') as f:\n",
    "    pickle.dump(distr_tensor_cp, f)"
   ]
  },
  {
   "cell_type": "code",
   "execution_count": 1253,
   "metadata": {},
   "outputs": [],
   "source": [
    "# Load the file\n",
    "with open(\"cp_distrs_boot1000_f1.pkl\", \"rb\") as f:\n",
    "    cp_f1 = pickle.load(f)"
   ]
  },
  {
   "cell_type": "code",
   "execution_count": 53,
   "metadata": {},
   "outputs": [],
   "source": [
    "# Calibration plot\n",
    "xv, yv,rr = get_xy(cp_f1, dict_f1, mdict, index_mode, step=0.05)"
   ]
  },
  {
   "cell_type": "code",
   "execution_count": 33,
   "metadata": {},
   "outputs": [
    {
     "data": {
      "text/plain": [
       "0.7258792"
      ]
     },
     "execution_count": 33,
     "metadata": {},
     "output_type": "execute_result"
    }
   ],
   "source": [
    "# Avg width\n",
    "np.mean(calculate_avgwidth(prob_tensor_cp))"
   ]
  },
  {
   "cell_type": "code",
   "execution_count": 1267,
   "metadata": {},
   "outputs": [
    {
     "name": "stderr",
     "output_type": "stream",
     "text": [
      "/Library/Frameworks/Python.framework/Versions/3.7/lib/python3.7/site-packages/ipykernel_launcher.py:13: UserWarning: Matplotlib is currently using pgf, which is a non-GUI backend, so cannot show the figure.\n",
      "  del sys.path[0]\n"
     ]
    },
    {
     "data": {
      "image/png": "[encoded data removed]",
      "text/plain": [
       "<Figure size 800x800 with 1 Axes>"
      ]
     },
     "metadata": {},
     "output_type": "display_data"
    }
   ],
   "source": [
    "# Plotting\n",
    "fig, ax = plt.subplots(figsize = (8,8))\n",
    "ax.scatter(xv, yv, c='black')\n",
    "plt.ylim(0, 1)\n",
    "plt.xlim(0, 1)\n",
    "plt.gca().set_aspect('equal', adjustable='box')\n",
    "line = mlines.Line2D([0, 1], [0, 1], color='red')\n",
    "transform = ax.transAxes\n",
    "line.set_transform(transform)\n",
    "ax.add_line(line)\n",
    "plt.xlabel('CI', fontsize=16)\n",
    "plt.ylabel('Proportion', fontsize=16)\n",
    "\n",
    "plt.show()"
   ]
  },
  {
   "cell_type": "code",
   "execution_count": 1269,
   "metadata": {},
   "outputs": [
    {
     "data": {
      "text/plain": [
       "6.33375420875421"
      ]
     },
     "execution_count": 1269,
     "metadata": {},
     "output_type": "execute_result"
    }
   ],
   "source": [
    "# Calculate ECE\n",
    "diag = np.linspace(0,1,len(yv))\n",
    "ECE = sum(abs(yv-diag))\n",
    "ECE"
   ]
  },
  {
   "cell_type": "markdown",
   "metadata": {},
   "source": [
    "### Example 2: Calibration analysis for Performance Prediction on NER task with PCA model\n",
    "#### PCA"
   ]
  },
  {
   "cell_type": "code",
   "execution_count": 54,
   "metadata": {},
   "outputs": [],
   "source": [
    "prob_tensor_pca = bootstrap_reconstruct(boot_tensor_1000, mdict, index_mode, size=396, model='pca')"
   ]
  },
  {
   "cell_type": "code",
   "execution_count": 1280,
   "metadata": {},
   "outputs": [],
   "source": [
    "with open(\"pca_distrs_boot1000_f1.pkl\", \"rb\") as f:\n",
    "    pca_f1 = pickle.load(f)"
   ]
  },
  {
   "cell_type": "code",
   "execution_count": null,
   "metadata": {},
   "outputs": [],
   "source": [
    "xv_pca, yv_pca,_ = get_xy(pca_f1, dict_f1, mdict, index_mode, step=0.05)"
   ]
  },
  {
   "cell_type": "code",
   "execution_count": 1282,
   "metadata": {},
   "outputs": [
    {
     "name": "stderr",
     "output_type": "stream",
     "text": [
      "/Library/Frameworks/Python.framework/Versions/3.7/lib/python3.7/site-packages/ipykernel_launcher.py:13: UserWarning: Matplotlib is currently using pgf, which is a non-GUI backend, so cannot show the figure.\n",
      "  del sys.path[0]\n"
     ]
    },
    {
     "data": {
      "image/png": "[encoded data removed]",
      "text/plain": [
       "<Figure size 800x800 with 1 Axes>"
      ]
     },
     "metadata": {},
     "output_type": "display_data"
    }
   ],
   "source": [
    "fig, ax = plt.subplots(figsize = (8,8))\n",
    "ax.scatter(xv_pca, yv_pca, c='black')\n",
    "plt.ylim(0, 1)\n",
    "plt.xlim(0, 1)\n",
    "plt.gca().set_aspect('equal', adjustable='box')\n",
    "line = mlines.Line2D([0, 1], [0, 1], color='red')\n",
    "transform = ax.transAxes\n",
    "line.set_transform(transform)\n",
    "ax.add_line(line)\n",
    "plt.xlabel('CI', fontsize=16)\n",
    "plt.ylabel('Proportion', fontsize=16)\n",
    "\n",
    "plt.show()"
   ]
  },
  {
   "cell_type": "code",
   "execution_count": 1283,
   "metadata": {},
   "outputs": [
    {
     "data": {
      "text/plain": [
       "8.759680134680135"
      ]
     },
     "execution_count": 1283,
     "metadata": {},
     "output_type": "execute_result"
    }
   ],
   "source": [
    "diag = np.linspace(0,1,len(yv_pca))\n",
    "ECE = sum(abs(yv_pca-diag))\n",
    "ECE"
   ]
  },
  {
   "cell_type": "code",
   "execution_count": 135,
   "metadata": {},
   "outputs": [
    {
     "data": {
      "text/plain": [
       "0.7006376"
      ]
     },
     "execution_count": 135,
     "metadata": {},
     "output_type": "execute_result"
    }
   ],
   "source": [
    "np.mean(calculate_avgwidth(prob_tensor_pca))"
   ]
  }
 ],
 "metadata": {
  "kernelspec": {
   "display_name": "Python 3",
   "language": "python",
   "name": "python3"
  },
  "language_info": {
   "codemirror_mode": {
    "name": "ipython",
    "version": 3
   },
   "file_extension": ".py",
   "mimetype": "text/x-python",
   "name": "python",
   "nbconvert_exporter": "python",
   "pygments_lexer": "ipython3",
   "version": "3.7.3"
  }
 },
 "nbformat": 4,
 "nbformat_minor": 2
}
